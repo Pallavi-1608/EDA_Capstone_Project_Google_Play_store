{
  "nbformat": 4,
  "nbformat_minor": 0,
  "metadata": {
    "colab": {
      "private_outputs": true,
      "provenance": [],
      "collapsed_sections": [
        "35m5QtbWiB9F",
        "PoPl-ycgm1ru",
        "H0kj-8xxnORC",
        "nA9Y7ga8ng1Z",
        "PBTbrJXOngz2",
        "u3PMJOP6ngxN",
        "dauF4eBmngu3",
        "bKJF3rekwFvQ",
        "MSa1f5Uengrz",
        "GF8Ens_Soomf",
        "0wOQAZs5pc--",
        "K5QZ13OEpz2H",
        "lQ7QKXXCp7Bj",
        "448CDAPjqfQr",
        "KSlN3yHqYklG",
        "t6dVpIINYklI",
        "ijmpgYnKYklI",
        "-JiQyfWJYklI",
        "EM7whBJCYoAo",
        "fge-S5ZAYoAp",
        "85gYPyotYoAp",
        "RoGjAbkUYoAp",
        "4Of9eVA-YrdM",
        "iky9q4vBYrdO",
        "F6T5p64dYrdO",
        "y-Ehk30pYrdP",
        "bamQiAODYuh1",
        "QHF8YVU7Yuh3",
        "GwzvFGzlYuh3",
        "qYpmQ266Yuh3",
        "OH-pJp9IphqM",
        "bbFf2-_FphqN",
        "_ouA3fa0phqN",
        "Seke61FWphqN",
        "PIIx-8_IphqN",
        "t27r6nlMphqO",
        "r2jJGEOYphqO",
        "b0JNsNcRphqO",
        "BZR9WyysphqO",
        "jj7wYXLtphqO",
        "eZrbJ2SmphqO",
        "rFu4xreNphqO",
        "YJ55k-q6phqO",
        "gCFgpxoyphqP",
        "OVtJsKN_phqQ",
        "lssrdh5qphqQ",
        "U2RJ9gkRphqQ",
        "1M8mcRywphqQ",
        "tgIPom80phqQ",
        "JMzcOPDDphqR",
        "x-EpHcCOp1ci",
        "X_VqEhTip1ck",
        "8zGJKyg5p1ck",
        "PVzmfK_Ep1ck",
        "n3dbpmDWp1ck",
        "ylSl6qgtp1ck",
        "ZWILFDl5p1ck",
        "M7G43BXep1ck",
        "Ag9LCva-p1cl",
        "E6MkPsBcp1cl",
        "2cELzS2fp1cl",
        "3MPXvC8up1cl",
        "NC_X3p0fY2L0",
        "UV0SzAkaZNRQ",
        "YPEH6qLeZNRQ",
        "q29F0dvdveiT",
        "EXh0U9oCveiU",
        "22aHeOlLveiV",
        "JcMwzZxoAimU",
        "8G2x9gOozGDZ",
        "gCX9965dhzqZ",
        "gIfDvo9L0UH2"
      ]
    },
    "kernelspec": {
      "name": "python3",
      "display_name": "Python 3"
    },
    "language_info": {
      "name": "python"
    }
  },
  "cells": [
    {
      "cell_type": "markdown",
      "source": [
        "# **Project Name**    - Google play store app review analysis\n",
        "\n"
      ],
      "metadata": {
        "id": "vncDsAP0Gaoa"
      }
    },
    {
      "cell_type": "markdown",
      "source": [
        "##### **Project Type**    - EDA\n",
        "##### **Contribution**    - Individual"
      ],
      "metadata": {
        "id": "beRrZCGUAJYm"
      }
    },
    {
      "cell_type": "markdown",
      "source": [
        "# **Project Summary -**"
      ],
      "metadata": {
        "id": "FJNUwmbgGyua"
      }
    },
    {
      "cell_type": "markdown",
      "source": [
        "Google Play Store is largest and most popularized Android app stores worldwide. With its broad collection of apps and a assets of data, it presents an optimal occasion for creating effective models and relating trends and future challenges.\n",
        "In this EDA design, we used two datasets one containing Play Store attributes and the other consisting of user reviews. The first dataset encompasses 13 different attributes, while the alternate dataset provides five another features for data manipulation and analysis.\n",
        "With the help of tools like Python, NumPy, Pandas, Matplotplotlib, Seaborn, Plotly I am able to perform this EDA. here performed Data Cleaning, Data Processing, Data analysis, Data visualization and got some desirable plots. These plots helped a lot to convert a numeric data into easy pictorial representation, with which a user can easily read and understand the data.\n",
        "ultimately,I got some key points, which will help a developer to know on which region they should work to build a successful application among all with high rate of interest.\n"
      ],
      "metadata": {
        "id": "F6v_1wHtG2nS"
      }
    },
    {
      "cell_type": "markdown",
      "source": [
        "# **GitHub Link -**"
      ],
      "metadata": {
        "id": "w6K7xa23Elo4"
      }
    },
    {
      "cell_type": "markdown",
      "source": [
        "Provide your GitHub Link here."
      ],
      "metadata": {
        "id": "h1o69JH3Eqqn"
      }
    },
    {
      "cell_type": "markdown",
      "source": [
        "# **Problem Statement**\n"
      ],
      "metadata": {
        "id": "yQaldy8SH6Dl"
      }
    },
    {
      "cell_type": "markdown",
      "source": [
        "Play store is a business(App) for downloading Android applications for\n",
        "smartphones. Smartphones sells expanding YoY across world. Its profitable market for App innovators as users think of for comfort and their increasing requirements like entertainment, games etc. It's important to discover out what kind of apps people downloading before developing an App for users and list that app. How does Size, Price and Type of app impacts the Rating’s and Sentiment of apps? also to find out what kind of apps are doing well and what kind of apps can be develope in future depending onthe market and competition\n",
        "\n"
      ],
      "metadata": {
        "id": "DpeJGUA3kjGy"
      }
    },
    {
      "cell_type": "markdown",
      "source": [
        "#### **Define Your Business Objective?**"
      ],
      "metadata": {
        "id": "PH-0ReGfmX4f"
      }
    },
    {
      "cell_type": "markdown",
      "source": [
        "The Play Store apps data has enormous potential to drive app-making businesses to success. Actionable insights can be drawn for developers to work on and capture the Android market"
      ],
      "metadata": {
        "id": "PhDvGCAqmjP1"
      }
    },
    {
      "cell_type": "markdown",
      "source": [
        "# ***Let's Begin !***"
      ],
      "metadata": {
        "id": "O_i_v8NEhb9l"
      }
    },
    {
      "cell_type": "markdown",
      "source": [
        "## ***1. Know Your Data***\n",
        "\n",
        "\n"
      ],
      "metadata": {
        "id": "HhfV-JJviCcP"
      }
    },
    {
      "cell_type": "markdown",
      "source": [
        "### Import Libraries"
      ],
      "metadata": {
        "id": "Y3lxredqlCYt"
      }
    },
    {
      "cell_type": "code",
      "source": [
        "# import libraries\n",
        "from ast import increment_lineno\n",
        "import numpy as np\n",
        "import pandas as pd\n",
        "import seaborn as sns\n",
        "import matplotlib.pyplot as plt\n",
        "from matplotlib import rc\n",
        "%matplotlib inline"
      ],
      "metadata": {
        "id": "M8Vqi-pPk-HR"
      },
      "execution_count": null,
      "outputs": []
    },
    {
      "cell_type": "markdown",
      "source": [
        "### Dataset Loading"
      ],
      "metadata": {
        "id": "3RnN4peoiCZX"
      }
    },
    {
      "cell_type": "code",
      "source": [
        "#mount google drive\n",
        "from google.colab import drive\n",
        "drive.mount('/content/drive')"
      ],
      "metadata": {
        "id": "xM9Rk0zKU0bO"
      },
      "execution_count": null,
      "outputs": []
    },
    {
      "cell_type": "code",
      "source": [
        "\n",
        "#reading csv file-1\n",
        "play_store_app_df1 = pd.read_csv('/content/drive/MyDrive/Colab Notebooks/Project Dataset/Play Store Data.csv')"
      ],
      "metadata": {
        "id": "_AFcakb9ViFy"
      },
      "execution_count": null,
      "outputs": []
    },
    {
      "cell_type": "code",
      "source": [
        "#reading csv file 2\n",
        "play_store_user_review_df2 = pd.read_csv('/content/drive/MyDrive/Colab Notebooks/Project Dataset/User Reviews.csv')"
      ],
      "metadata": {
        "id": "BYqXEylzXmQS"
      },
      "execution_count": null,
      "outputs": []
    },
    {
      "cell_type": "markdown",
      "source": [
        "### Dataset First View"
      ],
      "metadata": {
        "id": "x71ZqKXriCWQ"
      }
    },
    {
      "cell_type": "code",
      "source": [
        "# top five row of first dataset\n",
        "play_store_app_df1.head()"
      ],
      "metadata": {
        "id": "LWNFOSvLl09H"
      },
      "execution_count": null,
      "outputs": []
    },
    {
      "cell_type": "code",
      "source": [
        "#last five rows of first dataset\n",
        "play_store_app_df1.tail()"
      ],
      "metadata": {
        "id": "ssKVh5O3csaN"
      },
      "execution_count": null,
      "outputs": []
    },
    {
      "cell_type": "code",
      "source": [
        "# top five row of Second dataset\n",
        "play_store_user_review_df2.head()"
      ],
      "metadata": {
        "id": "KDv2D6YcdqrE"
      },
      "execution_count": null,
      "outputs": []
    },
    {
      "cell_type": "code",
      "source": [
        "#last five rows of first dataset\n",
        "play_store_user_review_df2.tail()"
      ],
      "metadata": {
        "id": "nh4MaTErd3Q3"
      },
      "execution_count": null,
      "outputs": []
    },
    {
      "cell_type": "markdown",
      "source": [
        "### Dataset Rows & Columns count"
      ],
      "metadata": {
        "id": "7hBIi_osiCS2"
      }
    },
    {
      "cell_type": "code",
      "source": [
        "# shape of first dataset\n",
        "play_store_app_df1.shape"
      ],
      "metadata": {
        "id": "Kllu7SJgmLij"
      },
      "execution_count": null,
      "outputs": []
    },
    {
      "cell_type": "markdown",
      "source": [
        "In first data set we have 10841 rows and 13 columns\n"
      ],
      "metadata": {
        "id": "5MOmU9AkeztS"
      }
    },
    {
      "cell_type": "code",
      "source": [
        "# shape of second dataset\n",
        "play_store_user_review_df2.shape"
      ],
      "metadata": {
        "id": "sND2JqW6eJVu"
      },
      "execution_count": null,
      "outputs": []
    },
    {
      "cell_type": "markdown",
      "source": [
        "### What did you know about your dataset?"
      ],
      "metadata": {
        "id": "U9up63jGP6NP"
      }
    },
    {
      "cell_type": "code",
      "source": [
        "# Information about the Second dataset and the datatypes of the columns\n",
        "play_store_user_review_df2.info()"
      ],
      "metadata": {
        "id": "0T7NvyL_f7ZG"
      },
      "execution_count": null,
      "outputs": []
    },
    {
      "cell_type": "code",
      "source": [
        "# Information about the First dataset and the datatypes of the columns\n",
        "play_store_app_df1.info()\n"
      ],
      "metadata": {
        "id": "e9hRXRi6meOf"
      },
      "execution_count": null,
      "outputs": []
    },
    {
      "cell_type": "markdown",
      "source": [
        "\n",
        "\n",
        "By diagnosing the data frame, we know that:\n",
        "\n",
        "-There are 13 columns of properties with 10841 rows of data.\n",
        "\n",
        "-Column 'Reviews', 'Size', 'Installs' and 'Price' are in the type of 'object'\n",
        "\n",
        "-Values of column 'Size' are strings representing size in 'M' as Megabytes, 'k' as kilobytes and also 'Varies with devices'.\n",
        "\n",
        "-Values of column 'Installs' are strings representing install amount with symbols such as ',' and '+'.\n",
        "\n",
        "-Values of column 'Price' are strings representing price with symbol '$'.\n",
        "\n",
        "\n",
        "\n",
        "\n",
        "\n"
      ],
      "metadata": {
        "id": "p5bnn4l_iYPz"
      }
    },
    {
      "cell_type": "markdown",
      "source": [
        "**Coverting column Reviews into int datatype**"
      ],
      "metadata": {
        "id": "6BOP4gacZyxd"
      }
    },
    {
      "cell_type": "code",
      "source": [
        "# Check if all the values in the column Reviews is numeric.\n",
        "play_store_app_df1.Reviews.str.isnumeric().sum()"
      ],
      "metadata": {
        "id": "Bd3_OHX900uW"
      },
      "execution_count": null,
      "outputs": []
    },
    {
      "cell_type": "markdown",
      "source": [
        "Out of 10841 objects, 10840 values are numeric and 1 value is non-numeric.\n"
      ],
      "metadata": {
        "id": "9yzCbKezbd61"
      }
    },
    {
      "cell_type": "code",
      "source": [
        "# Check which value in column Reviews is non-numeric.\n",
        "\n",
        "play_store_app_df1[~play_store_app_df1.Reviews.str.isnumeric()]"
      ],
      "metadata": {
        "id": "hOComYp7bjDI"
      },
      "execution_count": null,
      "outputs": []
    },
    {
      "cell_type": "markdown",
      "source": [
        "In above row data in column Reviews and Categaory are wrong so We can fix it by setting the Category or we deleting this entry for now."
      ],
      "metadata": {
        "id": "LKOli5sfg4WU"
      }
    },
    {
      "cell_type": "code",
      "source": [
        "# Deleting the entry index 10472\n",
        "\n",
        "play_store_app_df1 = play_store_app_df1.drop(play_store_app_df1.index[10472])"
      ],
      "metadata": {
        "id": "GAQvQ1V9hxmr"
      },
      "execution_count": null,
      "outputs": []
    },
    {
      "cell_type": "code",
      "source": [
        "# Now convert the values in the column Reviews as int datatype.\n",
        "\n",
        "play_store_app_df1['Reviews'] = play_store_app_df1['Reviews'].astype(int)"
      ],
      "metadata": {
        "id": "6uf7m02CiGx9"
      },
      "execution_count": null,
      "outputs": []
    },
    {
      "cell_type": "markdown",
      "source": [
        "**Coverting datatype of column Size into int**"
      ],
      "metadata": {
        "id": "1e7QUhaQbN3-"
      }
    },
    {
      "cell_type": "code",
      "source": [
        "play_store_app_df1['Size'].unique()"
      ],
      "metadata": {
        "id": "mEjy7v4fcTKq"
      },
      "execution_count": null,
      "outputs": []
    },
    {
      "cell_type": "markdown",
      "source": [
        "Here,converting the column Size to int datatype,but the data has suffixes k and M so we have to replace k and M with their values to convert them to numeric Also, deal with 'Varies with device'."
      ],
      "metadata": {
        "id": "z9-gA6M8h7X-"
      }
    },
    {
      "cell_type": "code",
      "source": [
        "#convert all apps size in mb data and drop some sign for coverting it into float data type\n",
        "play_store_app_df1['Size'] = play_store_app_df1['Size'].apply(lambda x: str(x).replace('Varies with device', '20') if 'Varies with device' in str(x) else x)\n",
        "play_store_app_df1['Size'] = play_store_app_df1['Size'].apply(lambda x: str(x).replace('M', '') if 'M' in str(x) else x)\n",
        "play_store_app_df1['Size'] = play_store_app_df1['Size'].apply(lambda x: str(x).replace(',', '') if 'M' in str(x) else x)\n",
        "play_store_app_df1['Size'] = play_store_app_df1['Size'].apply(lambda x: float(str(x).replace('k', '')) / 1000 if 'k' in str(x) else x)\n",
        "play_store_app_df1['Size'] = play_store_app_df1['Size'].apply(lambda x: float(x))\n"
      ],
      "metadata": {
        "id": "MqgQHA0DmKLG"
      },
      "execution_count": null,
      "outputs": []
    },
    {
      "cell_type": "code",
      "source": [
        "#After converted\n",
        "play_store_app_df1[\"Size\"].unique()"
      ],
      "metadata": {
        "id": "KuG48d2amdJP"
      },
      "execution_count": null,
      "outputs": []
    },
    {
      "cell_type": "markdown",
      "source": [
        "**changing the datatype of column Install**"
      ],
      "metadata": {
        "id": "tZi5bsuMaOtr"
      }
    },
    {
      "cell_type": "code",
      "source": [
        "play_store_app_df1.Installs.unique()"
      ],
      "metadata": {
        "id": "bENJkvlUjdzY"
      },
      "execution_count": null,
      "outputs": []
    },
    {
      "cell_type": "code",
      "source": [
        "# we have found \"+\",\",\" signs, so removing that and conveting datatype to int\n",
        "play_store_app_df1['Installs']=play_store_app_df1['Installs'].apply(lambda x: x.replace(\"+\",\"\"))\n",
        "play_store_app_df1['Installs']=play_store_app_df1['Installs'].apply(lambda x: x.replace(\",\",\"\"))\n",
        "play_store_app_df1['Installs']=play_store_app_df1['Installs'].apply(lambda x:int(x))"
      ],
      "metadata": {
        "id": "vQ74JoEDsvBY"
      },
      "execution_count": null,
      "outputs": []
    },
    {
      "cell_type": "code",
      "source": [
        "play_store_app_df1['Installs'].unique()"
      ],
      "metadata": {
        "id": "lsiYegHWucOz"
      },
      "execution_count": null,
      "outputs": []
    },
    {
      "cell_type": "markdown",
      "source": [
        "**Changing the datatype of column Price**"
      ],
      "metadata": {
        "id": "fnD9D_gVyQ4p"
      }
    },
    {
      "cell_type": "code",
      "source": [
        "\n",
        "play_store_app_df1['Price'].unique()"
      ],
      "metadata": {
        "id": "TScPMzmKyfte"
      },
      "execution_count": null,
      "outputs": []
    },
    {
      "cell_type": "code",
      "source": [
        "# for converting datatype of column Price from object to float we have remove the \"$\" sign\n",
        "play_store_app_df1['Price']=play_store_app_df1['Price'].apply(lambda x : x.replace(\"$\",\"\"))\n",
        "play_store_app_df1['Price']=play_store_app_df1['Price'].apply(lambda x : float(x))"
      ],
      "metadata": {
        "id": "pwwokReiyt_d"
      },
      "execution_count": null,
      "outputs": []
    },
    {
      "cell_type": "code",
      "source": [
        "play_store_app_df1.Price.unique()"
      ],
      "metadata": {
        "id": "vxmzKl6MzpH0"
      },
      "execution_count": null,
      "outputs": []
    },
    {
      "cell_type": "code",
      "source": [
        "# After cleaning dataset\n",
        "play_store_app_df1.info()"
      ],
      "metadata": {
        "id": "UZdeumD7JzLC"
      },
      "execution_count": null,
      "outputs": []
    },
    {
      "cell_type": "markdown",
      "source": [
        "#### Duplicate Values"
      ],
      "metadata": {
        "id": "35m5QtbWiB9F"
      }
    },
    {
      "cell_type": "code",
      "source": [
        "# Dataset  Duplicate Value Count\n",
        "duplicates_app=play_store_app_df1.duplicated()\n",
        "duplicate_app_count=duplicates_app.sum()\n",
        "duplicate_app_count"
      ],
      "metadata": {
        "id": "1sLdpKYkmox0"
      },
      "execution_count": null,
      "outputs": []
    },
    {
      "cell_type": "code",
      "source": [
        "##unique apps\n",
        "df=play_store_app_df1[\"App\"].nunique()\n",
        "df"
      ],
      "metadata": {
        "id": "ZJnUrxZFVIng"
      },
      "execution_count": null,
      "outputs": []
    },
    {
      "cell_type": "code",
      "source": [
        "#removing duplicate values\n",
        "play_store_app_df=play_store_app_df1.drop_duplicates(subset='App')\n",
        "play_store_app_df.head()"
      ],
      "metadata": {
        "id": "1cdQXEKfV2FM"
      },
      "execution_count": null,
      "outputs": []
    },
    {
      "cell_type": "markdown",
      "source": [
        "####Deleting the unwanted Columns"
      ],
      "metadata": {
        "id": "zCxd18zFNb6W"
      }
    },
    {
      "cell_type": "code",
      "source": [
        "## Delete unwanted columns\n",
        "play_store_app_df.drop(['Android Ver', 'Current Ver', 'Last Updated'], axis=1, inplace=True)"
      ],
      "metadata": {
        "id": "GIRrD2-DNhkt"
      },
      "execution_count": null,
      "outputs": []
    },
    {
      "cell_type": "markdown",
      "source": [
        "#### Missing Values/Null Values"
      ],
      "metadata": {
        "id": "PoPl-ycgm1ru"
      }
    },
    {
      "cell_type": "markdown",
      "source": [
        "Handling Null values of first dataset-paly store app"
      ],
      "metadata": {
        "id": "g1byhBwOisJN"
      }
    },
    {
      "cell_type": "code",
      "source": [
        "# Null Values Count per variable\n",
        "null_values_count = play_store_app_df.isnull().sum()\n",
        "null_values_count"
      ],
      "metadata": {
        "id": "GgHWkxvamxVg"
      },
      "execution_count": null,
      "outputs": []
    },
    {
      "cell_type": "code",
      "source": [
        "# Visualizing the null values\n",
        "# Ploting a bar chart for the fraction of null values in each variable.\n",
        "play_store_app_df.isnull().sum().plot.bar(figsize=(10,4))\n",
        "plt.ylabel('Number of null values')\n",
        "plt.xlabel('Variables')\n",
        "plt.title('Quantifying null data')"
      ],
      "metadata": {
        "id": "3q5wnI3om9sJ"
      },
      "execution_count": null,
      "outputs": []
    },
    {
      "cell_type": "markdown",
      "source": [
        "####There are 1463 rows having null values under column 'Rating'. so, we decided to replace the null values with mean of overall 'Rating' values."
      ],
      "metadata": {
        "id": "1IdyPVEuFZZj"
      }
    },
    {
      "cell_type": "code",
      "source": [
        "#replacing all null values of column Rating witn mean of overall Rating values\n",
        "play_store_app_df['Rating']=play_store_app_df['Rating'].fillna(play_store_app_df['Rating'].mean())"
      ],
      "metadata": {
        "id": "MVuAa3R9GGSa"
      },
      "execution_count": null,
      "outputs": []
    },
    {
      "cell_type": "code",
      "source": [
        "#after replacing we again check dataset\n",
        "play_store_app_df.isnull().sum()"
      ],
      "metadata": {
        "id": "TTT_odf3LYZH"
      },
      "execution_count": null,
      "outputs": []
    },
    {
      "cell_type": "markdown",
      "source": [
        "**After cleaning process we get cleaned dataset**"
      ],
      "metadata": {
        "id": "E-vMUfamORpn"
      }
    },
    {
      "cell_type": "code",
      "source": [
        "# cleaned dataset\n",
        "play_store_app_df"
      ],
      "metadata": {
        "id": "Pk869p_-Oi4a"
      },
      "execution_count": null,
      "outputs": []
    },
    {
      "cell_type": "markdown",
      "source": [
        "Handling null values of second dataset-User Reviews"
      ],
      "metadata": {
        "id": "SH7YBAW1jh0_"
      }
    },
    {
      "cell_type": "code",
      "source": [
        "# Null Values Count per variable\n",
        "play_store_user_review_df2.isnull().sum()"
      ],
      "metadata": {
        "id": "a2iICZl6lAx3"
      },
      "execution_count": null,
      "outputs": []
    },
    {
      "cell_type": "code",
      "source": [
        "#checking sentiment coulumn\n",
        "play_store_user_review_df2['Sentiment'].value_counts()"
      ],
      "metadata": {
        "id": "_swG69sInGd0"
      },
      "execution_count": null,
      "outputs": []
    },
    {
      "cell_type": "markdown",
      "source": [
        " Here in sentiment column putting any random values may lead to change the result of this analysis so we will drop all the rows having null values to get a proper result"
      ],
      "metadata": {
        "id": "8qdIWJJDnzHm"
      }
    },
    {
      "cell_type": "code",
      "source": [
        "play_store_user_review_df2.dropna(inplace=True)"
      ],
      "metadata": {
        "id": "utn1tq0LoSm9"
      },
      "execution_count": null,
      "outputs": []
    },
    {
      "cell_type": "code",
      "source": [
        "#After deleting null values again we check\n",
        "play_store_user_review_df2.isnull().sum()"
      ],
      "metadata": {
        "id": "bU1n4dfxoukl"
      },
      "execution_count": null,
      "outputs": []
    },
    {
      "cell_type": "code",
      "source": [
        "play_store_user_review_df2.shape"
      ],
      "metadata": {
        "id": "6bDMU_kuobKn"
      },
      "execution_count": null,
      "outputs": []
    },
    {
      "cell_type": "code",
      "source": [
        "# Cleaned second dataset\n",
        "play_store_user_review_df2.head(10)"
      ],
      "metadata": {
        "id": "Y0ouiIrp-3kS"
      },
      "execution_count": null,
      "outputs": []
    },
    {
      "cell_type": "markdown",
      "source": [
        "## ***2. Understanding Your Variables***"
      ],
      "metadata": {
        "id": "nA9Y7ga8ng1Z"
      }
    },
    {
      "cell_type": "code",
      "source": [
        "# Dataset first Columns\n",
        "play_store_app_df.columns"
      ],
      "metadata": {
        "id": "j7xfkqrt5Ag5"
      },
      "execution_count": null,
      "outputs": []
    },
    {
      "cell_type": "code",
      "source": [
        "# Dataset second columns\n",
        "play_store_user_review_df2.columns"
      ],
      "metadata": {
        "id": "6fJVi8dkg6Xb"
      },
      "execution_count": null,
      "outputs": []
    },
    {
      "cell_type": "code",
      "source": [
        "# Dataset first Describe\n",
        "play_store_app_df.describe()"
      ],
      "metadata": {
        "id": "DnOaZdaE5Q5t"
      },
      "execution_count": null,
      "outputs": []
    },
    {
      "cell_type": "code",
      "source": [
        "# Dataset second Describe\n",
        "play_store_user_review_df2.describe()"
      ],
      "metadata": {
        "id": "Bx5UZKVmhH17"
      },
      "execution_count": null,
      "outputs": []
    },
    {
      "cell_type": "markdown",
      "source": [
        "### Variables Description"
      ],
      "metadata": {
        "id": "PBTbrJXOngz2"
      }
    },
    {
      "cell_type": "markdown",
      "source": [
        "**Dataset-1**\n",
        "\n",
        "App: It contains the name of the app with a short description (optional\n",
        "\n",
        "Category: This section gives the category to which an app belongs. In this\n",
        "\n",
        "dataset, the apps are divided among 33 categories.\n",
        "\n",
        "Size: The disk space required to install the respective app.\n",
        "\n",
        "Rating: The average rating given by the users for the respective app. It can be in between 1 and 5.\n",
        "\n",
        "Reviews: The number of users that have dropped a review for the respective app.\n",
        "\n",
        "Installs: The approximate number of times the respective app was installed.\n",
        "\n",
        "Type: It states whether an app is free to use or paid.\n",
        "\n",
        "Price: It gives the price payable to install the app. For free type apps, the price is zero.\n",
        "\n",
        "Content rating: It states which age group is suitable to consume the content of the respective app.\n",
        "\n",
        "Genres: It gives the genre(s) to which the respective app belongs.\n",
        "\n",
        "Last updated: It gives the day in which the latest update for the respective app was released.\n",
        "\n",
        "Current Ver: It gives the current version of the respective app.\n",
        "\n",
        "Android Ver: It gives the android version of the respective app.\n",
        "\n",
        "**Dataset-2**\n",
        "\n",
        "App: It contains the name of the app with a short description (optional).\n",
        "\n",
        "Translated_Review: It contains the English translation of the review dropped by the user of the app.\n",
        "\n",
        "Sentiment: It gives the attitude/emotion of the writer. It can be ‘Positive’, ‘Negative’, or ‘Neutral’.\n",
        "\n",
        "Sentiment_Polarity: It gives the polarity of the review. Its range is [-1,1], where 1 means ‘Positive statement’ and -1 means a ‘Negative statement’.\n",
        "\n",
        "Sentiment_Subjectivity: This value gives how close a reviewer’s opinion is to the opinion of the general public. Its range is [0,1]. Higher the subjectivity, closer is the reviewer’s opinion to the opinion of the general public, and lower subjectivity indicates the review is more of a factual information."
      ],
      "metadata": {
        "id": "aJV4KIxSnxay"
      }
    },
    {
      "cell_type": "markdown",
      "source": [
        "### Check Unique Values for each variable."
      ],
      "metadata": {
        "id": "u3PMJOP6ngxN"
      }
    },
    {
      "cell_type": "code",
      "source": [
        "# Check Unique Values for each variable.\n",
        "play_store_app_df['App'].nunique()"
      ],
      "metadata": {
        "id": "zms12Yq5n-jE"
      },
      "execution_count": null,
      "outputs": []
    },
    {
      "cell_type": "code",
      "source": [
        "play_store_app_df['Category'].nunique()"
      ],
      "metadata": {
        "id": "tr8A7AXSnmrc"
      },
      "execution_count": null,
      "outputs": []
    },
    {
      "cell_type": "code",
      "source": [
        "play_store_app_df['Rating'].nunique()"
      ],
      "metadata": {
        "id": "bmOISwpVnx56"
      },
      "execution_count": null,
      "outputs": []
    },
    {
      "cell_type": "code",
      "source": [
        "play_store_app_df['Type'].nunique()"
      ],
      "metadata": {
        "id": "Jq6tRkSwn6F5"
      },
      "execution_count": null,
      "outputs": []
    },
    {
      "cell_type": "code",
      "source": [
        "play_store_app_df['Genres'].nunique()"
      ],
      "metadata": {
        "id": "SisuinrZoSsm"
      },
      "execution_count": null,
      "outputs": []
    },
    {
      "cell_type": "code",
      "source": [
        "play_store_app_df['Price'].nunique()"
      ],
      "metadata": {
        "id": "xvbhP6sUodnS"
      },
      "execution_count": null,
      "outputs": []
    },
    {
      "cell_type": "markdown",
      "source": [
        "## ***3. Data Vizualization, Storytelling & Experimenting with charts : Understand the relationships between variables***"
      ],
      "metadata": {
        "id": "GF8Ens_Soomf"
      }
    },
    {
      "cell_type": "markdown",
      "source": [
        "#### Chart - 1 - Bar Chart -- **Number of Installs for each Category**"
      ],
      "metadata": {
        "id": "0wOQAZs5pc--"
      }
    },
    {
      "cell_type": "code",
      "source": [
        "# Category verses Installation bar chart\n",
        "plt.figure(figsize=(12,10))\n",
        "play_store_app_df.groupby('Category')['Installs'].sum().sort_values(ascending=True).plot(kind=\"barh\")\n",
        "plt.xticks(size=10)\n",
        "plt.xlabel(\"Installs\",size=12,c=\"k\")\n",
        "plt.ylabel(\"Category\",size=12,c=\"k\")\n",
        "plt.title(\"Number of Install for each Category\",size=16,c=\"k\")\n",
        "plt.show()"
      ],
      "metadata": {
        "id": "7v_ESjsspbW7"
      },
      "execution_count": null,
      "outputs": []
    },
    {
      "cell_type": "markdown",
      "source": [
        "##### 1. Why did you pick the specific chart?"
      ],
      "metadata": {
        "id": "K5QZ13OEpz2H"
      }
    },
    {
      "cell_type": "markdown",
      "source": [
        "Bar charts should be used when we are showing segments of information. It is a good choice for visualizing the number of installs for different app categories because it allows us for easy comparison between categories.The horizontal layout also makes it easier to read the category labels."
      ],
      "metadata": {
        "id": "XESiWehPqBRc"
      }
    },
    {
      "cell_type": "markdown",
      "source": [
        "##### 2. What is/are the insight(s) found from the chart?"
      ],
      "metadata": {
        "id": "lQ7QKXXCp7Bj"
      }
    },
    {
      "cell_type": "markdown",
      "source": [
        "From the above bar chart we can observe that most of the apps being downloaded and installed belong to the Games category, indicating high demands for Games. After Games,there are Communication and Tools apps which mostly downloaded.\n",
        "\n"
      ],
      "metadata": {
        "id": "C_j1G7yiqdRP"
      }
    },
    {
      "cell_type": "markdown",
      "source": [
        "##### 3. Will the gained insights help creating a positive business impact?\n",
        "Are there any insights that lead to negative growth? Justify with specific reason."
      ],
      "metadata": {
        "id": "448CDAPjqfQr"
      }
    },
    {
      "cell_type": "markdown",
      "source": [
        "From the above visualization, we can say Game category list on the play store will increase business profit but in the category like event and beauty it may lead a negative growth of business and apps.\n",
        "Companies operating in the GAMES category can use this high demand to develop and market their GAMES more effectively, potentially leading to higher revenue and market share. Similarly, companies operating in the BEAUTY,MEDICAL,PARENTING categories should innovate their products to stand out in the market and capture more customers. This can help to improve thie market."
      ],
      "metadata": {
        "id": "3cspy4FjqxJW"
      }
    },
    {
      "cell_type": "markdown",
      "source": [
        "#### Chart - 2- Bar Chart -- **Total number of apps in each category**"
      ],
      "metadata": {
        "id": "KSlN3yHqYklG"
      }
    },
    {
      "cell_type": "code",
      "source": [
        "#category versus total number of apps\n",
        "plt.figure(figsize=(12,6))\n",
        "play_store_app_df.groupby('Category')['App'].nunique().sort_values(ascending=True).plot(kind=\"barh\")\n",
        "plt.xticks(size=10)\n",
        "plt.xlabel(\"Total Apps\",size=12,c=\"k\")\n",
        "plt.ylabel(\"Category\",size=12,c=\"k\")\n",
        "plt.title(\"Number of apps for each Category\",size=16,c=\"k\")\n",
        "plt.show()"
      ],
      "metadata": {
        "id": "bGW1LQWSDdot"
      },
      "execution_count": null,
      "outputs": []
    },
    {
      "cell_type": "markdown",
      "source": [
        "##### 1. Why did you pick the specific chart?"
      ],
      "metadata": {
        "id": "t6dVpIINYklI"
      }
    },
    {
      "cell_type": "markdown",
      "source": [
        "Bar charts should be used when we are showing segments of information.here I want to show segments of category so that I choose a bar graph also it's easy to understand the data."
      ],
      "metadata": {
        "id": "5aaW0BYyYklI"
      }
    },
    {
      "cell_type": "markdown",
      "source": [
        "##### 2. What is/are the insight(s) found from the chart?"
      ],
      "metadata": {
        "id": "ijmpgYnKYklI"
      }
    },
    {
      "cell_type": "markdown",
      "source": [
        "From above chart we observed that categories like Family, Game, and Tools in play store have maximum number of the apps.\n",
        "Categories like beauty, comics, parenting have minimum number of apps as compared to other category"
      ],
      "metadata": {
        "id": "PSx9atu2YklI"
      }
    },
    {
      "cell_type": "markdown",
      "source": [
        "##### 3. Will the gained insights help creating a positive business impact?\n",
        "Are there any insights that lead to negative growth? Justify with specific reason."
      ],
      "metadata": {
        "id": "-JiQyfWJYklI"
      }
    },
    {
      "cell_type": "markdown",
      "source": [
        "Above chart shows that Beauty, Comics categories have less number of apps as compared to Family, Game category so it's better to list app in paly store like Beauty,Comics"
      ],
      "metadata": {
        "id": "BcBbebzrYklV"
      }
    },
    {
      "cell_type": "markdown",
      "source": [
        "#### Chart - 3 - Pie Chart -- **Content ratings on number of apps**"
      ],
      "metadata": {
        "id": "EM7whBJCYoAo"
      }
    },
    {
      "cell_type": "code",
      "source": [
        "plt.figure(figsize=(8,6))\n",
        "plt.title(\"Content ratings on apps\",fontsize = 16)\n",
        "plt.pie(play_store_app_df['Content Rating'].value_counts(), labels=play_store_app_df['Content Rating'].value_counts().index,autopct='%1.1f%%',startangle=180,explode=(0.1,0,0,0,1,2.5))\n",
        "plt.show()"
      ],
      "metadata": {
        "id": "kEGOlnT04wQz"
      },
      "execution_count": null,
      "outputs": []
    },
    {
      "cell_type": "markdown",
      "source": [
        "##### 1. Why did you pick the specific chart?"
      ],
      "metadata": {
        "id": "fge-S5ZAYoAp"
      }
    },
    {
      "cell_type": "markdown",
      "source": [
        "A pie chart helps organize and show data as a percentage of a whole and slices of that circle or pie, to represent the specific categories that compose the whole.\n",
        "Here we display the percentage of Apps with Content rating which having different age group restriction.\n"
      ],
      "metadata": {
        "id": "5dBItgRVYoAp"
      }
    },
    {
      "cell_type": "markdown",
      "source": [
        "##### 2. What is/are the insight(s) found from the chart?"
      ],
      "metadata": {
        "id": "85gYPyotYoAp"
      }
    },
    {
      "cell_type": "markdown",
      "source": [
        "Here we observed that 'Adults only 18+' and 'Unrated' are with very less number of apps and  'Everyone' has higest number of percentage of apps which means most of the apps are available for everyone without any age restriction.   "
      ],
      "metadata": {
        "id": "4jstXR6OYoAp"
      }
    },
    {
      "cell_type": "markdown",
      "source": [
        "##### 3. Will the gained insights help creating a positive business impact?\n",
        "Are there any insights that lead to negative growth? Justify with specific reason."
      ],
      "metadata": {
        "id": "RoGjAbkUYoAp"
      }
    },
    {
      "cell_type": "markdown",
      "source": [
        "Above pie chart implies that most of the apps are no age restriction which means they will gain more users and restricted apps are fewer users"
      ],
      "metadata": {
        "id": "zfJ8IqMcYoAp"
      }
    },
    {
      "cell_type": "markdown",
      "source": [
        "#### Chart - 4 -- Pie Chart -- **Type of different apps in play store**"
      ],
      "metadata": {
        "id": "4Of9eVA-YrdM"
      }
    },
    {
      "cell_type": "code",
      "source": [
        "# pie chart showing percentage of paid verses free apps in play store\n",
        "plt.figure(figsize=(5,5))\n",
        "plt.title(\"Price of apps\",fontsize = 16)\n",
        "plt.pie(play_store_app_df.Type.value_counts(), labels=play_store_app_df.Type.value_counts().index,autopct='%1.1f%%',startangle=180,explode=(0, 0.1))\n",
        "plt.show()"
      ],
      "metadata": {
        "id": "ef69AXlVwgS8"
      },
      "execution_count": null,
      "outputs": []
    },
    {
      "cell_type": "markdown",
      "source": [
        "##### 1. Why did you pick the specific chart?"
      ],
      "metadata": {
        "id": "iky9q4vBYrdO"
      }
    },
    {
      "cell_type": "markdown",
      "source": [
        "A pie chart helps to organize and show data as a percentage of a whole and slices of that circle or pie, to represent the specific categories that compose the whole. Here we display the percentage of type of different apps in play store"
      ],
      "metadata": {
        "id": "aJRCwT6DYrdO"
      }
    },
    {
      "cell_type": "markdown",
      "source": [
        "##### 2. What is/are the insight(s) found from the chart?"
      ],
      "metadata": {
        "id": "F6T5p64dYrdO"
      }
    },
    {
      "cell_type": "markdown",
      "source": [
        "From above plot we observe that there is a huge difference between total no of free apps and paid apps and majority of the apps are free in play store.\n"
      ],
      "metadata": {
        "id": "Xx8WAJvtYrdO"
      }
    },
    {
      "cell_type": "markdown",
      "source": [
        "##### 3. Will the gained insights help creating a positive business impact?\n",
        "Are there any insights that lead to negative growth? Justify with specific reason."
      ],
      "metadata": {
        "id": "y-Ehk30pYrdP"
      }
    },
    {
      "cell_type": "markdown",
      "source": [
        "Here maximum percentage of free apps listing in play store than paid apps. so paid type apps may lead to less insatallation."
      ],
      "metadata": {
        "id": "jLNxxz7MYrdP"
      }
    },
    {
      "cell_type": "markdown",
      "source": [
        "#### Chart - 5 -- Box Plot -- **Distribution of Rating on category**"
      ],
      "metadata": {
        "id": "bamQiAODYuh1"
      }
    },
    {
      "cell_type": "code",
      "source": [
        "#vistualization code\n",
        "plt.figure(figsize=(16,8))\n",
        "plt.title(\"Rating on Category\",fontsize=16)\n",
        "sns.boxplot(y=\"Category\",x ='Rating',data =play_store_app_df)\n",
        "plt.xlabel(\"Rating\",fontsize=16)\n",
        "plt.ylabel(\"Category\",fontsize=16)\n",
        "plt.show()"
      ],
      "metadata": {
        "id": "3ZhYuKcUAG8P"
      },
      "execution_count": null,
      "outputs": []
    },
    {
      "cell_type": "markdown",
      "source": [
        "##### 1. Why did you pick the specific chart?"
      ],
      "metadata": {
        "id": "QHF8YVU7Yuh3"
      }
    },
    {
      "cell_type": "markdown",
      "source": [
        "Box plot visually show the distribution of numerical data and skewness by displaying the data quartiles and averages. It displays the summary of the set of data values including minimum,first quartile,median,third quartile and maximum"
      ],
      "metadata": {
        "id": "dcxuIMRPYuh3"
      }
    },
    {
      "cell_type": "markdown",
      "source": [
        "##### 2. What is/are the insight(s) found from the chart?"
      ],
      "metadata": {
        "id": "GwzvFGzlYuh3"
      }
    },
    {
      "cell_type": "markdown",
      "source": [
        "Above distribution of ploting shows that maximum number of apps in the play store are rated between range 4 and 4.6\n",
        "Maximum rating category is parenting and minimum rating category are video players and maps and navigation.\n"
      ],
      "metadata": {
        "id": "uyqkiB8YYuh3"
      }
    },
    {
      "cell_type": "markdown",
      "source": [
        "##### 3. Will the gained insights help creating a positive business impact?\n",
        "Are there any insights that lead to negative growth? Justify with specific reason."
      ],
      "metadata": {
        "id": "qYpmQ266Yuh3"
      }
    },
    {
      "cell_type": "markdown",
      "source": [
        "above gained insight will make positive impact on business\n"
      ],
      "metadata": {
        "id": "_WtzZ_hCYuh4"
      }
    },
    {
      "cell_type": "markdown",
      "source": [
        "#### Chart - 6 -- Histogram -- **Distribution of size**"
      ],
      "metadata": {
        "id": "OH-pJp9IphqM"
      }
    },
    {
      "cell_type": "code",
      "source": [
        "# visualization code\n",
        "plt.figure(figsize=(8, 6))\n",
        "plt.hist(play_store_app_df['Size'],color = \"blue\")\n",
        "plt.xlabel(\"Size\",fontsize=14)\n",
        "plt.title(\"Distribution of Size\",fontsize=16)\n",
        "plt.ylabel(\"Number of apps\",fontsize=14)\n",
        "plt.show()"
      ],
      "metadata": {
        "id": "QwCizs_bH6S2"
      },
      "execution_count": null,
      "outputs": []
    },
    {
      "cell_type": "markdown",
      "source": [
        "##### 1. Why did you pick the specific chart?"
      ],
      "metadata": {
        "id": "bbFf2-_FphqN"
      }
    },
    {
      "cell_type": "markdown",
      "source": [
        "Histogram is good for the graphical representation of numerical data distribution.so for better undersating of different sizes of apps histogram used."
      ],
      "metadata": {
        "id": "loh7H2nzphqN"
      }
    },
    {
      "cell_type": "markdown",
      "source": [
        "##### 2. What is/are the insight(s) found from the chart?"
      ],
      "metadata": {
        "id": "_ouA3fa0phqN"
      }
    },
    {
      "cell_type": "markdown",
      "source": [
        "from above plot we observed that maximum number of the app's size is between 1 to 20Mb. it means most of the apps are small in size"
      ],
      "metadata": {
        "id": "VECbqPI7phqN"
      }
    },
    {
      "cell_type": "markdown",
      "source": [
        "##### 3. Will the gained insights help creating a positive business impact?\n",
        "Are there any insights that lead to negative growth? Justify with specific reason."
      ],
      "metadata": {
        "id": "Seke61FWphqN"
      }
    },
    {
      "cell_type": "markdown",
      "source": [
        "From the histogram we observed that most of the apps are small in size between 1Mb to 20Mb,so if apps size increases ther may be possibilites that few number of apps get install."
      ],
      "metadata": {
        "id": "DW4_bGpfphqN"
      }
    },
    {
      "cell_type": "markdown",
      "source": [
        "#### Chart - 7 -- Scatterplot -- **Distribution of apps in terms of rating, size and type**"
      ],
      "metadata": {
        "id": "PIIx-8_IphqN"
      }
    },
    {
      "cell_type": "code",
      "source": [
        "# visualization code\n",
        "plt.figure(figsize=(12, 6))\n",
        "sns.scatterplot(data=play_store_app_df,x=play_store_app_df['Size'],y=play_store_app_df['Rating'],hue=play_store_app_df['Type'],s=50)\n",
        "plt.xlabel(\"Size\",fontsize=14)\n",
        "plt.ylabel(\"Rating\",fontsize=14)\n",
        "plt.title(\"Apps rating, size and type\",fontsize=15)\n",
        "plt.show()"
      ],
      "metadata": {
        "id": "lqAIGUfyphqO"
      },
      "execution_count": null,
      "outputs": []
    },
    {
      "cell_type": "markdown",
      "source": [
        "##### 1. Why did you pick the specific chart?"
      ],
      "metadata": {
        "id": "t27r6nlMphqO"
      }
    },
    {
      "cell_type": "markdown",
      "source": [
        "Scatter plots are used to plot data points on horizontal and vertical axis in the attempt to show how much one variable is affected by another.so it will give a proper visualization between apps rating,size and type"
      ],
      "metadata": {
        "id": "iv6ro40sphqO"
      }
    },
    {
      "cell_type": "markdown",
      "source": [
        "##### 2. What is/are the insight(s) found from the chart?"
      ],
      "metadata": {
        "id": "r2jJGEOYphqO"
      }
    },
    {
      "cell_type": "markdown",
      "source": [
        "here from above plot we can observe that maximum numbers of the free\n",
        "apps are small in size with high rating. where as, paid apps have quite equal distribution in term of size and rating."
      ],
      "metadata": {
        "id": "Po6ZPi4hphqO"
      }
    },
    {
      "cell_type": "markdown",
      "source": [
        "##### 3. Will the gained insights help creating a positive business impact?\n",
        "Are there any insights that lead to negative growth? Justify with specific reason."
      ],
      "metadata": {
        "id": "b0JNsNcRphqO"
      }
    },
    {
      "cell_type": "markdown",
      "source": [
        " From above observation we can say that, the apps which are small in size it may lead to high installations and reviews."
      ],
      "metadata": {
        "id": "xvSq8iUTphqO"
      }
    },
    {
      "cell_type": "markdown",
      "source": [
        "#### Chart - 8 -- Line Chart -- **Review, size, installs, price per rating**"
      ],
      "metadata": {
        "id": "BZR9WyysphqO"
      }
    },
    {
      "cell_type": "code",
      "source": [
        "# plot the graphs of reviews, size, installs and price per rating\n",
        "df_Rating = play_store_app_df.groupby('Rating').sum().reset_index()\n",
        "\n",
        "fig, axes = plt.subplots(1, 4, figsize=(14, 4))\n",
        "\n",
        "axes[0].plot(df_Rating['Rating'], df_Rating['Size'], 'm')\n",
        "axes[0].set_title('Size Per Rating',fontsize=14)\n",
        "axes[0].set_xlabel('Rating')\n",
        "axes[0].set_ylabel('Size')\n",
        "\n",
        "axes[1].plot(df_Rating['Rating'], df_Rating['Reviews'], 'g')\n",
        "axes[1].set_title('Reviews Per Rating',fontsize=14)\n",
        "axes[1].set_xlabel('Rating')\n",
        "axes[1].set_ylabel('Reviews')\n",
        "\n",
        "\n",
        "axes[2].plot(df_Rating['Rating'], df_Rating['Installs'], 'y')\n",
        "axes[2].set_title('Installs Per Rating',fontsize=14)\n",
        "axes[2].set_xlabel('Rating')\n",
        "axes[2].set_ylabel('Installs (e+10)')\n",
        "\n",
        "axes[3].plot(df_Rating['Rating'], df_Rating['Price'], 'r')\n",
        "axes[3].set_title('Price Per Rating',fontsize=14)\n",
        "axes[3].set_xlabel('Rating')\n",
        "axes[3].set_ylabel('Price')\n",
        "\n",
        "plt.tight_layout(pad=2)\n",
        "plt.show()\n"
      ],
      "metadata": {
        "id": "Zie7ErwHntZc"
      },
      "execution_count": null,
      "outputs": []
    },
    {
      "cell_type": "markdown",
      "source": [
        "##### 1. Why did you pick the specific chart?"
      ],
      "metadata": {
        "id": "jj7wYXLtphqO"
      }
    },
    {
      "cell_type": "markdown",
      "source": [
        "ine charts aid in identifying major performance concerns and spotting patterns (either good or bad). Line charts allow you to pinpoint the precise moment when anything out of the norm occurred, which aids in determining where to go for solutions."
      ],
      "metadata": {
        "id": "Ob8u6rCTphqO"
      }
    },
    {
      "cell_type": "markdown",
      "source": [
        "##### 2. What is/are the insight(s) found from the chart?"
      ],
      "metadata": {
        "id": "eZrbJ2SmphqO"
      }
    },
    {
      "cell_type": "markdown",
      "source": [
        "Here from above plot, we can observe that maximum number of the apps with higher rating range of 4.0 - 4.7 are having high amount of reviews, size, and installs. But in terms of price, it doesn't shows a direct relationship with rating, as we could see a fluctuation in term of pricing even at the range of high rating."
      ],
      "metadata": {
        "id": "mZtgC_hjphqO"
      }
    },
    {
      "cell_type": "markdown",
      "source": [
        "##### 3. Will the gained insights help creating a positive business impact?\n",
        "Are there any insights that lead to negative growth? Justify with specific reason."
      ],
      "metadata": {
        "id": "rFu4xreNphqO"
      }
    },
    {
      "cell_type": "markdown",
      "source": [
        "The popularity of apps or ratings of apps is strongly correlated with the number of reviews, the size of the app, and the number of installs."
      ],
      "metadata": {
        "id": "ey_0qi68phqO"
      }
    },
    {
      "cell_type": "markdown",
      "source": [
        "#### Chart - 9-- Bar chart --**Apps with highest number of reviews**"
      ],
      "metadata": {
        "id": "U2RJ9gkRphqQ"
      }
    },
    {
      "cell_type": "code",
      "source": [
        "# visualization code\n",
        "play_store_app_df.groupby('App')[['Reviews','App']].sum().nlargest(15,['Reviews']).plot.barh(figsize = (10,8), color = 'lightgreen').invert_yaxis()\n",
        "plt.xlabel('Number of user reviews')\n",
        "plt.title('Top 20 apps with the highest number of user reviews')"
      ],
      "metadata": {
        "id": "GM7a4YP4phqQ"
      },
      "execution_count": null,
      "outputs": []
    },
    {
      "cell_type": "markdown",
      "source": [
        "##### 1. Why did you pick the specific chart?"
      ],
      "metadata": {
        "id": "1M8mcRywphqQ"
      }
    },
    {
      "cell_type": "markdown",
      "source": [
        "it is simple and easy to understand the data"
      ],
      "metadata": {
        "id": "8agQvks0phqQ"
      }
    },
    {
      "cell_type": "markdown",
      "source": [
        "##### 2. What is/are the insight(s) found from the chart?"
      ],
      "metadata": {
        "id": "tgIPom80phqQ"
      }
    },
    {
      "cell_type": "markdown",
      "source": [
        "form above chart we observed that Facebook, Whatsapp Messanger, Instagram having highest reviews."
      ],
      "metadata": {
        "id": "Qp13pnNzphqQ"
      }
    },
    {
      "cell_type": "markdown",
      "source": [
        "##### 3. Will the gained insights help creating a positive business impact?\n",
        "Are there any insights that lead to negative growth? Justify with specific reason."
      ],
      "metadata": {
        "id": "JMzcOPDDphqR"
      }
    },
    {
      "cell_type": "markdown",
      "source": [
        "above gained insight will impact on business"
      ],
      "metadata": {
        "id": "R4Ka1PC2phqR"
      }
    },
    {
      "cell_type": "markdown",
      "source": [
        "#### Chart - 11 - **Correlation Heatmap**"
      ],
      "metadata": {
        "id": "x-EpHcCOp1ci"
      }
    },
    {
      "cell_type": "code",
      "source": [
        "#correlaton between the variables\n",
        "plt.figure(figsize=(10,5))\n",
        "sns.heatmap(play_store_app_df.corr(),annot=True, cmap='Accent_r')\n",
        "plt.title(\"Correlation by Heatmap in Play Store Data\",size='20');"
      ],
      "metadata": {
        "id": "S6MD4vr2DMrQ"
      },
      "execution_count": null,
      "outputs": []
    },
    {
      "cell_type": "markdown",
      "source": [
        "##### 1. Why did you pick the specific chart?"
      ],
      "metadata": {
        "id": "X_VqEhTip1ck"
      }
    },
    {
      "cell_type": "markdown",
      "source": [
        "It is convinient and makes patterns easily readable and highlights the differences and variations in the data."
      ],
      "metadata": {
        "id": "-vsMzt_np1ck"
      }
    },
    {
      "cell_type": "markdown",
      "source": [
        "##### 2. What is/are the insight(s) found from the chart?"
      ],
      "metadata": {
        "id": "8zGJKyg5p1ck"
      }
    },
    {
      "cell_type": "markdown",
      "source": [
        "above heatmap we observed that review and install are highly corelated which cleared that higher number of installs has a higher number of reviews.\n",
        "There is negative corelation between price and insatall, price of app have an effect on installaion of apps"
      ],
      "metadata": {
        "id": "ZYdMsrqVp1ck"
      }
    },
    {
      "cell_type": "markdown",
      "source": [
        "#### Chart - 12 --Pie Chart-- **sentiment polarity distribution**"
      ],
      "metadata": {
        "id": "n3dbpmDWp1ck"
      }
    },
    {
      "cell_type": "code",
      "source": [
        "#histograme based on polarity\n",
        "plt.figure(figsize=(10,6))\n",
        "plt.hist(play_store_user_review_df2[play_store_user_review_df2['Sentiment_Polarity'].notnull()]['Sentiment_Polarity'],color = \"Green\")\n",
        "plt.xlabel(\"Polarity\",fontsize=14)\n",
        "plt.title(\"Distribution of sentiment polarity\",fontsize=14)\n",
        "plt.show()"
      ],
      "metadata": {
        "id": "bwevp1tKp1ck"
      },
      "execution_count": null,
      "outputs": []
    },
    {
      "cell_type": "markdown",
      "source": [
        "##### 1. Why did you pick the specific chart?"
      ],
      "metadata": {
        "id": "ylSl6qgtp1ck"
      }
    },
    {
      "cell_type": "markdown",
      "source": [
        "Histogram is good for the graphical representation of numerical data distribution.so for better undersating of distribution of sentiment polarity histogram used."
      ],
      "metadata": {
        "id": "m2xqNkiQp1ck"
      }
    },
    {
      "cell_type": "markdown",
      "source": [
        "##### 2. What is/are the insight(s) found from the chart?"
      ],
      "metadata": {
        "id": "ZWILFDl5p1ck"
      }
    },
    {
      "cell_type": "markdown",
      "source": [
        "from the above plot it can see that maximum number of sentiment polarity lies between 0.0 to 0.50"
      ],
      "metadata": {
        "id": "x-lUsV2mp1ck"
      }
    },
    {
      "cell_type": "markdown",
      "source": [
        "##### 3. Will the gained insights help creating a positive business impact?\n",
        "Are there any insights that lead to negative growth? Justify with specific reason."
      ],
      "metadata": {
        "id": "M7G43BXep1ck"
      }
    },
    {
      "cell_type": "markdown",
      "source": [
        "From above insight we can say that most of user have positive sentiment reviews which will helpful for business."
      ],
      "metadata": {
        "id": "5wwDJXsLp1cl"
      }
    },
    {
      "cell_type": "markdown",
      "source": [
        "#### Chart - 13--Histogram-- **Distribution of sentiment subjectivity**"
      ],
      "metadata": {
        "id": "Ag9LCva-p1cl"
      }
    },
    {
      "cell_type": "markdown",
      "source": [
        "##### 1. Why did you pick the specific chart?"
      ],
      "metadata": {
        "id": "E6MkPsBcp1cl"
      }
    },
    {
      "cell_type": "markdown",
      "source": [
        "Histogram is good for the graphical representation of numerical data distribution.so for better undersating of distribution of sentiment subjectivity histogram used."
      ],
      "metadata": {
        "id": "V22bRsFWp1cl"
      }
    },
    {
      "cell_type": "markdown",
      "source": [
        "##### 2. What is/are the insight(s) found from the chart?"
      ],
      "metadata": {
        "id": "2cELzS2fp1cl"
      }
    },
    {
      "cell_type": "markdown",
      "source": [
        "It observe that maximum number of sentiment subjectivity lies between 0.4 to 0.7. From this we can conclude that maximum number of users give reviews to the applications, according to their experience.\n",
        "Here, 0 =objective(fact), 1 =subjective(opinion)"
      ],
      "metadata": {
        "id": "ozQPc2_Ip1cl"
      }
    },
    {
      "cell_type": "markdown",
      "source": [
        "##### 3. Will the gained insights help creating a positive business impact?\n",
        "Are there any insights that lead to negative growth? Justify with specific reason."
      ],
      "metadata": {
        "id": "3MPXvC8up1cl"
      }
    },
    {
      "cell_type": "markdown",
      "source": [
        "As maximum number of sentiment subjectivity lies betwen 0.4 to 0.7 we say that most users rate the apps on basis of their own experience with the application."
      ],
      "metadata": {
        "id": "GL8l1tdLp1cl"
      }
    },
    {
      "cell_type": "markdown",
      "source": [
        "Chart 14 -- --**sentiment analysis based on category**"
      ],
      "metadata": {
        "id": "0mCVlkbAmuGt"
      }
    },
    {
      "cell_type": "code",
      "source": [
        "# visualization code\n",
        "from matplotlib.ticker import PercentFormatter\n",
        "merged_df = pd.merge(play_store_app_df, play_store_user_review_df2, on='App', how = 'inner')\n",
        "merged_df.head()\n",
        "fig = plt.figure(figsize=(10,6))\n",
        "ax = fig.add_subplot(1,1,1)\n",
        "\n",
        "sns.histplot(\n",
        "    data=merged_df,\n",
        "    x=\"Category\", hue=\"Sentiment\",\n",
        "    bins=30,\n",
        "    ax=ax,\n",
        "    stat=\"count\",\n",
        "    multiple=\"stack\",\n",
        "    palette=\"light:salmon_r\",\n",
        "    edgecolor=\".3\",\n",
        "    linewidth=.5,\n",
        "    legend=True\n",
        "    )\n",
        "\n",
        "ax.set_title(\"Sentiment Analysis Based on Category\",fontsize=10)\n",
        "plt.xticks(rotation='vertical')\n",
        "ax.set_xlabel(\"Category\",fontsize=12)\n",
        "ax.set_ylabel(\"Review Counts\",fontsize=12)\n",
        "\n",
        "plt.gca().yaxis.set_major_formatter(PercentFormatter(20000))\n",
        "sns.set(style=\"ticks\")\n",
        "plt.grid()\n",
        "plt.show()"
      ],
      "metadata": {
        "id": "gx7qqyKxmtcz"
      },
      "execution_count": null,
      "outputs": []
    },
    {
      "cell_type": "markdown",
      "source": [
        "##### 1. Why did you pick the specific chart?"
      ],
      "metadata": {
        "id": "WWU11nNmm5c6"
      }
    },
    {
      "cell_type": "markdown",
      "source": [
        "This chart will make things easy to analyse so that we easily can find insight from data.\n",
        "\n",
        "\n"
      ],
      "metadata": {
        "id": "qxg6jZM_m_yY"
      }
    },
    {
      "cell_type": "markdown",
      "source": [
        "##### 2. What is/are the insight(s) found from the chart?"
      ],
      "metadata": {
        "id": "yEVeeJy4nA04"
      }
    },
    {
      "cell_type": "markdown",
      "source": [
        "From above chart we can say that user have much interest in Game category as compare to others because we observe that most of reviews are from Game category and less review from Comics, Events, Weather category\n",
        "\n",
        "\n"
      ],
      "metadata": {
        "id": "Sfvvl8mFnFEl"
      }
    },
    {
      "cell_type": "markdown",
      "source": [
        "##### 3. Will the gained insights help creating a positive business impact?\n",
        "Are there any insights that lead to negative growth? Justify with specific reason."
      ],
      "metadata": {
        "id": "BTA7XSmvnGHE"
      }
    },
    {
      "cell_type": "markdown",
      "source": [
        "above gained insight will helpful business."
      ],
      "metadata": {
        "id": "PwLYzJiqnOGE"
      }
    },
    {
      "cell_type": "markdown",
      "source": [
        "#### Chart - 15 -- Scatter Plot -- **Google play store review sentiment analysis**"
      ],
      "metadata": {
        "id": "1MmGmNCo1ZCO"
      }
    },
    {
      "cell_type": "code",
      "source": [
        "# visualization code\n",
        "plt.figure(figsize=(14,7))\n",
        "sns.scatterplot(data=play_store_user_review_df2,x='Sentiment_Subjectivity', y='Sentiment_Polarity',hue=\"Sentiment\", palette=\"icefire\")\n",
        "plt.title(\"Google Play Store Reviews Sentiment Analysis\",fontsize=16)\n",
        "plt.show()"
      ],
      "metadata": {
        "id": "905gqP3B3F0v"
      },
      "execution_count": null,
      "outputs": []
    },
    {
      "cell_type": "markdown",
      "source": [
        "##### 1. Why did you pick the specific chart?"
      ],
      "metadata": {
        "id": "DMiQoev33Gp4"
      }
    },
    {
      "cell_type": "markdown",
      "source": [
        "Scatter plots are used to plot data points on horizontal and vertical axis in the attempt to show how much one variable is affected by another.so it will give a proper visualization between sentiment polarity and sentiment subjectivity."
      ],
      "metadata": {
        "id": "RdzUbQox3Hnu"
      }
    },
    {
      "cell_type": "markdown",
      "source": [
        "##### 2. What is/are the insight(s) found from the chart?"
      ],
      "metadata": {
        "id": "PGf_NVc73JpQ"
      }
    },
    {
      "cell_type": "markdown",
      "source": [
        "From the above scatter plot it can be concluded that sentiment subjectivity is not always proportional to sentiment polarity but in maximum number of case, shows a proportional behavior, when variance is too high or low"
      ],
      "metadata": {
        "id": "mJLSq7NX3JZb"
      }
    },
    {
      "cell_type": "markdown",
      "source": [
        "## **4. Solution to Business Objective**"
      ],
      "metadata": {
        "id": "JcMwzZxoAimU"
      }
    },
    {
      "cell_type": "markdown",
      "source": [
        "#### What do you suggest the client to achieve Business Objective ?\n",
        "Explain Briefly."
      ],
      "metadata": {
        "id": "8G2x9gOozGDZ"
      }
    },
    {
      "cell_type": "markdown",
      "source": [
        "fgtrttt    Answer Here."
      ],
      "metadata": {
        "id": "pASKb0qOza21"
      }
    },
    {
      "cell_type": "markdown",
      "source": [
        "# **Conclusion**"
      ],
      "metadata": {
        "id": "gCX9965dhzqZ"
      }
    },
    {
      "cell_type": "markdown",
      "source": [
        "hgytu fgru ghuyi hatyu gnggjgjgvjhfb jhhklfjbg  hud jyuios sbgycn"
      ],
      "metadata": {
        "id": "Fjb1IsQkh3yE"
      }
    },
    {
      "cell_type": "markdown",
      "source": [
        "### ***Hurrah! You have successfully completed your EDA Capstone Project !!!***"
      ],
      "metadata": {
        "id": "gIfDvo9L0UH2"
      }
    }
  ]
}